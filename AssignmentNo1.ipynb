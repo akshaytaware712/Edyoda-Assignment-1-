{
 "cells": [
  {
   "cell_type": "markdown",
   "id": "6ffb84b8",
   "metadata": {},
   "source": [
    "# Write a Python program to get the Fibonacci series between 0 to 50"
   ]
  },
  {
   "cell_type": "code",
   "execution_count": 1,
   "id": "7252a27f",
   "metadata": {},
   "outputs": [
    {
     "name": "stdout",
     "output_type": "stream",
     "text": [
      "0 1 1 2 3 5 8 13 21 34 "
     ]
    }
   ],
   "source": [
    "x,y= 0,1\n",
    "print(x,end=\" \")\n",
    "while y<50:\n",
    "    print(y,end=\" \")\n",
    "    x,y=y,x+y"
   ]
  },
  {
   "cell_type": "code",
   "execution_count": 2,
   "id": "cd106a1f",
   "metadata": {},
   "outputs": [
    {
     "name": "stdout",
     "output_type": "stream",
     "text": [
      "Enter Number50\n",
      "0\n",
      "1\n",
      "1\n",
      "2\n",
      "3\n",
      "5\n",
      "8\n",
      "13\n",
      "21\n",
      "34\n"
     ]
    }
   ],
   "source": [
    "n = int(input(\"Enter Number\"))\n",
    "x = 0\n",
    "y = 1\n",
    "z = 0\n",
    "while z<=n:\n",
    "    print(z)\n",
    "    x=y\n",
    "    y=z\n",
    "    z=x+y"
   ]
  },
  {
   "cell_type": "markdown",
   "id": "705d4b7d",
   "metadata": {},
   "source": [
    "# Write a Python program that accepts a word from the user and reverse it.\n",
    "Input : Edyoda"
   ]
  },
  {
   "cell_type": "code",
   "execution_count": 5,
   "id": "0b45df79",
   "metadata": {},
   "outputs": [
    {
     "name": "stdout",
     "output_type": "stream",
     "text": [
      "Enter the StringEdyoda\n",
      "adoydE"
     ]
    }
   ],
   "source": [
    "n = input(\"Enter the String\")\n",
    "for i in range (len(n)-1,-1,-1):\n",
    "    print(n[i],end=\"\")"
   ]
  },
  {
   "cell_type": "code",
   "execution_count": 7,
   "id": "b932799c",
   "metadata": {},
   "outputs": [
    {
     "name": "stdout",
     "output_type": "stream",
     "text": [
      "Enter stringEdyoda\n",
      "adoydE\n"
     ]
    }
   ],
   "source": [
    "n = input(\"Enter string\")\n",
    "print(n[-1::-1])"
   ]
  },
  {
   "cell_type": "markdown",
   "id": "71bd0f9e",
   "metadata": {},
   "source": [
    "## Write a Python program to count the number of even and odd numbers from a series of numbers.\n",
    "Sample numbers : numbers = (1, 2, 3, 4, 5, 6, 7, 8, 9) "
   ]
  },
  {
   "cell_type": "code",
   "execution_count": 8,
   "id": "af168bde",
   "metadata": {},
   "outputs": [
    {
     "name": "stdout",
     "output_type": "stream",
     "text": [
      "Number of even numbers : 5\n",
      "Number of odd numbers : 4\n"
     ]
    }
   ],
   "source": [
    "n = (1, 2, 3, 4, 5, 6, 7, 8, 9) \n",
    "count_odd = 0\n",
    "count_even = 0\n",
    "for x in n:\n",
    "        if  x % 2:\n",
    "             count_even+=1\n",
    "        else:\n",
    "             count_odd+=1\n",
    "print(\"Number of even numbers :\",count_even)\n",
    "print(\"Number of odd numbers :\",count_odd)\n"
   ]
  }
 ],
 "metadata": {
  "kernelspec": {
   "display_name": "Python 3 (ipykernel)",
   "language": "python",
   "name": "python3"
  },
  "language_info": {
   "codemirror_mode": {
    "name": "ipython",
    "version": 3
   },
   "file_extension": ".py",
   "mimetype": "text/x-python",
   "name": "python",
   "nbconvert_exporter": "python",
   "pygments_lexer": "ipython3",
   "version": "3.8.6"
  }
 },
 "nbformat": 4,
 "nbformat_minor": 5
}
